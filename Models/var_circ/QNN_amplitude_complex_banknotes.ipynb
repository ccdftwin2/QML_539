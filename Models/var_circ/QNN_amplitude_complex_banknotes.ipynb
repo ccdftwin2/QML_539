{
 "cells": [
  {
   "cell_type": "code",
   "execution_count": 1,
   "metadata": {},
   "outputs": [],
   "source": [
    "import pennylane as qml\n",
    "from pennylane import numpy as np\n",
    "from pennylane.optimize import NesterovMomentumOptimizer\n",
    "from sklearn.preprocessing import MinMaxScaler\n",
    "import random\n",
    "import tensorflow as tf"
   ]
  },
  {
   "cell_type": "markdown",
   "metadata": {},
   "source": [
    "# Prepare training and testing data"
   ]
  },
  {
   "cell_type": "code",
   "execution_count": 2,
   "metadata": {},
   "outputs": [],
   "source": [
    "with open('normalized_banknote.csv') as f:\n",
    "    temp = np.loadtxt(f, delimiter=',', skiprows=1)\n",
    "\n",
    "X = temp[:,:-1]\n",
    "y = temp[:,-1]\n",
    "X = MinMaxScaler().fit_transform(X)\n",
    "y = np.tensor([-1 if i == 0 else 1 for i in y])\n",
    "\n",
    "num_data = len(y)\n",
    "num_train = int(0.75 * num_data)\n",
    "index = np.random.permutation(range(num_data))\n",
    "feats_train = X[index[:num_train]]\n",
    "Y_train = y[index[:num_train]]\n",
    "feats_val = X[index[num_train:]]\n",
    "Y_val = y[index[num_train:]]"
   ]
  },
  {
   "cell_type": "code",
   "execution_count": 3,
   "metadata": {},
   "outputs": [
    {
     "data": {
      "text/plain": [
       "(1371, 4)"
      ]
     },
     "execution_count": 3,
     "metadata": {},
     "output_type": "execute_result"
    }
   ],
   "source": [
    "X.shape"
   ]
  },
  {
   "cell_type": "code",
   "execution_count": 4,
   "metadata": {},
   "outputs": [
    {
     "data": {
      "text/plain": [
       "(1371,)"
      ]
     },
     "execution_count": 4,
     "metadata": {},
     "output_type": "execute_result"
    }
   ],
   "source": [
    "y.shape"
   ]
  },
  {
   "cell_type": "markdown",
   "metadata": {},
   "source": [
    "# define varational circuit"
   ]
  },
  {
   "cell_type": "code",
   "execution_count": 17,
   "metadata": {},
   "outputs": [
    {
     "data": {
      "image/png": "[encoded data removed]",
      "text/plain": [
       "<Figure size 1200x300 with 1 Axes>"
      ]
     },
     "metadata": {},
     "output_type": "display_data"
    }
   ],
   "source": [
    "num_wires = 2\n",
    "dev = qml.device(\"default.qubit\", wires=num_wires)\n",
    "\n",
    "@qml.qnode(dev, diff_method=\"backprop\")\n",
    "def circuit(feature_vector,weights=None):\n",
    "    qml.AmplitudeEmbedding(features=feature_vector, wires=range(num_wires), pad_with=0,normalize=True)\n",
    "    qml.RY(weights[0], wires=0)\n",
    "    qml.RZ(weights[1], wires=0)\n",
    "\n",
    "    qml.CRX(weights[2],wires=[0,1])\n",
    "    qml.RY(weights[3], wires=0)\n",
    "    qml.RZ(weights[4], wires=0)\n",
    "    qml.RY(weights[5], wires=1)\n",
    "    qml.RZ(weights[6], wires=1)\n",
    "\n",
    "    qml.CRX(weights[7],wires=[1,0])\n",
    "    qml.RY(weights[8], wires=0)\n",
    "    qml.RZ(weights[9], wires=0)\n",
    "    qml.RY(weights[10], wires=1)\n",
    "    qml.RZ(weights[11], wires=1)\n",
    "    return qml.expval(qml.PauliZ(wires=1))\n",
    "weights = np.array([1.69783, -0.0349, 1.09658, -0.67087, 0.56437, 0.09912, 1.62751, 2.22998, 0.16848, 0.58332, 1.84687, 0.81434], requires_grad=True)\n",
    "# weights = np.random.random(size=[12], requires_grad=True)\n",
    "bias = np.array(0.15, requires_grad=True)\n",
    "# bias = np.array(0.0, requires_grad=True)\n",
    "fig, ax = qml.draw_mpl(circuit, expansion_strategy=\"device\")(feats_train[0],weights)"
   ]
  },
  {
   "cell_type": "code",
   "execution_count": 18,
   "metadata": {},
   "outputs": [],
   "source": [
    "def variational_classifier(weights, bias,feature_vector):\n",
    "    return circuit( feature_vector,weights)+bias\n",
    "\n",
    "def cost(weights, bias, features, labels):\n",
    "    predictions = [variational_classifier(weights, bias,f) for f in features]\n",
    "    loss = 0\n",
    "    for l, p in zip(labels, predictions):\n",
    "        loss +=  (l - p) ** 2\n",
    "    return loss/ len(labels)\n",
    "\n",
    "def accuracy(labels, predictions):\n",
    "    success = 0\n",
    "    for l, p in zip(labels, predictions):\n",
    "        if abs(l - p) < 0.5:\n",
    "            success += 1\n",
    "    return success/ len(labels)"
   ]
  },
  {
   "cell_type": "code",
   "execution_count": 19,
   "metadata": {},
   "outputs": [
    {
     "name": "stdout",
     "output_type": "stream",
     "text": [
      "Epoch:     1 | Cost: 0.6911466 | Acc train: 0.7723735 | Acc validation: 0.7551020 [1.71057, -0.03504, 1.11471, -0.75758, 0.52344, 0.14302, 1.55942, 2.25629, 0.16848, 0.58332, 1.79646, 0.81434]0.01632\n",
      "Epoch:     2 | Cost: 0.6846506 | Acc train: 0.7801556 | Acc validation: 0.7609329 [1.78757, -0.01074, 1.15775, -0.78782, 0.54292, 0.08664, 1.56305, 2.26399, 0.16848, 0.58332, 1.77801, 0.81434]0.02875\n",
      "Epoch:     3 | Cost: 0.6761846 | Acc train: 0.8501946 | Acc validation: 0.8134111 [1.84181, -0.00484, 1.19435, -0.83851, 0.52285, 0.17932, 1.64805, 2.21442, 0.16848, 0.58332, 1.79805, 0.81434]0.09279\n",
      "Epoch:     4 | Cost: 0.6896897 | Acc train: 0.7675097 | Acc validation: 0.7551020 [1.84798, 0.00557, 1.22841, -0.9046, 0.5018, 0.08578, 1.58518, 2.24869, 0.16848, 0.58332, 1.74498, 0.81434]0.01938\n",
      "Epoch:     5 | Cost: 0.6816675 | Acc train: 0.7850195 | Acc validation: 0.7638484 [1.87786, 0.02467, 1.29208, -0.95426, 0.50137, 0.09759, 1.62195, 2.21966, 0.16848, 0.58332, 1.75158, 0.81434]0.02385\n",
      "Epoch:     6 | Cost: 0.6728945 | Acc train: 0.8356031 | Acc validation: 0.8046647 [1.96463, 0.02969, 1.33737, -0.95801, 0.51335, 0.09391, 1.65916, 2.22607, 0.16848, 0.58332, 1.72328, 0.81434]0.08136\n",
      "Epoch:     7 | Cost: 0.6717486 | Acc train: 0.8229572 | Acc validation: 0.7900875 [1.97845, 0.04203, 1.39781, -1.01507, 0.48706, 0.10426, 1.68766, 2.20786, 0.16848, 0.58332, 1.72108, 0.81434]0.05546\n",
      "Epoch:     8 | Cost: 0.6740384 | Acc train: 0.8044747 | Acc validation: 0.7725948 [2.00488, 0.05214, 1.44468, -1.06046, 0.4602, 0.08859, 1.67682, 2.20485, 0.16848, 0.58332, 1.68022, 0.81434]0.0425\n",
      "Epoch:     9 | Cost: 0.6720536 | Acc train: 0.8103113 | Acc validation: 0.7813411 [2.05138, 0.07517, 1.48012, -1.08542, 0.49004, 0.03519, 1.67293, 2.22256, 0.16848, 0.58332, 1.67216, 0.81434]0.03962\n",
      "Epoch:    10 | Cost: 0.6997675 | Acc train: 0.8219844 | Acc validation: 0.7346939 [2.13414, 0.07686, 1.52708, -1.05466, 0.51006, 0.01809, 1.75201, 2.1895, 0.16848, 0.58332, 1.68343, 0.81434]0.12229\n",
      "Epoch:    11 | Cost: 0.6734303 | Acc train: 0.8579767 | Acc validation: 0.8163265 [2.10504, 0.09648, 1.56924, -1.11126, 0.50496, -0.01003, 1.72531, 2.2059, 0.16848, 0.58332, 1.64757, 0.81434]0.0697\n",
      "Epoch:    12 | Cost: 0.6774238 | Acc train: 0.7830739 | Acc validation: 0.7638484 [2.09001, 0.10333, 1.61662, -1.15784, 0.46944, 0.0033, 1.67632, 2.22426, 0.16848, 0.58332, 1.62986, 0.81434]0.00233\n",
      "Epoch:    13 | Cost: 0.6714693 | Acc train: 0.8589494 | Acc validation: 0.8250729 [2.09327, 0.13693, 1.6552, -1.18489, 0.50336, -0.04734, 1.75452, 2.2101, 0.16848, 0.58332, 1.60585, 0.81434]0.07066\n",
      "Epoch:    14 | Cost: 0.6729572 | Acc train: 0.8608949 | Acc validation: 0.8134111 [2.15261, 0.11793, 1.69044, -1.17008, 0.45264, -0.02338, 1.74195, 2.20483, 0.16848, 0.58332, 1.6044, 0.81434]0.08723\n",
      "Epoch:    15 | Cost: 0.6747838 | Acc train: 0.7937743 | Acc validation: 0.7667638 [2.13006, 0.12511, 1.73801, -1.2024, 0.42009, 0.01034, 1.71598, 2.23018, 0.16848, 0.58332, 1.56209, 0.81434]0.01847\n",
      "Epoch:    16 | Cost: 0.6705257 | Acc train: 0.8521401 | Acc validation: 0.8134111 [2.17256, 0.1362, 1.76829, -1.19535, 0.45406, -0.03544, 1.7468, 2.22647, 0.16848, 0.58332, 1.56478, 0.81434]0.06717\n",
      "Epoch:    17 | Cost: 0.6721970 | Acc train: 0.8511673 | Acc validation: 0.8075802 [2.19397, 0.12989, 1.81255, -1.1868, 0.44709, -0.01959, 1.7399, 2.25167, 0.16848, 0.58332, 1.5454, 0.81434]0.08223\n",
      "Epoch:    18 | Cost: 0.6684260 | Acc train: 0.8112840 | Acc validation: 0.7784257 [2.12715, 0.15768, 1.83958, -1.24339, 0.44706, -0.04445, 1.75283, 2.25131, 0.16848, 0.58332, 1.51477, 0.81434]0.03991\n",
      "Epoch:    19 | Cost: 0.6685621 | Acc train: 0.8394942 | Acc validation: 0.7930029 [2.11582, 0.15498, 1.87297, -1.25088, 0.42022, -0.04399, 1.76885, 2.23783, 0.16848, 0.58332, 1.49932, 0.81434]0.07709\n",
      "Epoch:    20 | Cost: 0.6740793 | Acc train: 0.7966926 | Acc validation: 0.7580175 [2.17037, 0.15845, 1.90038, -1.23436, 0.44952, -0.06852, 1.68472, 2.29405, 0.16848, 0.58332, 1.53419, 0.81434]0.0101\n",
      "Epoch:    21 | Cost: 0.6691166 | Acc train: 0.8064202 | Acc validation: 0.7696793 [2.1634, 0.16691, 1.92154, -1.22597, 0.45316, -0.07561, 1.71479, 2.28178, 0.16848, 0.58332, 1.51322, 0.81434]0.02162\n",
      "Epoch:    22 | Cost: 0.6698120 | Acc train: 0.8083658 | Acc validation: 0.7725948 [2.19604, 0.17637, 1.95074, -1.22186, 0.46917, -0.07297, 1.69861, 2.29547, 0.16848, 0.58332, 1.51191, 0.81434]0.01554\n",
      "Epoch:    23 | Cost: 0.6943959 | Acc train: 0.7509728 | Acc validation: 0.7230321 [2.11731, 0.17647, 1.97448, -1.27848, 0.39792, -0.04598, 1.69654, 2.30063, 0.16848, 0.58332, 1.47403, 0.81434]-0.01532\n"
     ]
    },
    {
     "ename": "KeyboardInterrupt",
     "evalue": "",
     "output_type": "error",
     "traceback": [
      "\u001b[0;31m---------------------------------------------------------------------------\u001b[0m",
      "\u001b[0;31mKeyboardInterrupt\u001b[0m                         Traceback (most recent call last)",
      "Cell \u001b[0;32mIn [19], line 23\u001b[0m\n\u001b[1;32m     21\u001b[0m \u001b[39m# Compute predictions on train and validation set\u001b[39;00m\n\u001b[1;32m     22\u001b[0m predictions_train \u001b[39m=\u001b[39m [np\u001b[39m.\u001b[39msign(variational_classifier(weights, bias, f)) \u001b[39mfor\u001b[39;00m f \u001b[39min\u001b[39;00m feats_train]\n\u001b[0;32m---> 23\u001b[0m predictions_val \u001b[39m=\u001b[39m [np\u001b[39m.\u001b[39msign(variational_classifier(weights, bias, f)) \u001b[39mfor\u001b[39;00m f \u001b[39min\u001b[39;00m feats_val]\n\u001b[1;32m     24\u001b[0m \u001b[39m# Compute accuracy on train and validation set\u001b[39;00m\n\u001b[1;32m     25\u001b[0m acc_train \u001b[39m=\u001b[39m accuracy(Y_train, predictions_train)\n",
      "Cell \u001b[0;32mIn [19], line 23\u001b[0m, in \u001b[0;36m<listcomp>\u001b[0;34m(.0)\u001b[0m\n\u001b[1;32m     21\u001b[0m \u001b[39m# Compute predictions on train and validation set\u001b[39;00m\n\u001b[1;32m     22\u001b[0m predictions_train \u001b[39m=\u001b[39m [np\u001b[39m.\u001b[39msign(variational_classifier(weights, bias, f)) \u001b[39mfor\u001b[39;00m f \u001b[39min\u001b[39;00m feats_train]\n\u001b[0;32m---> 23\u001b[0m predictions_val \u001b[39m=\u001b[39m [np\u001b[39m.\u001b[39msign(variational_classifier(weights, bias, f)) \u001b[39mfor\u001b[39;00m f \u001b[39min\u001b[39;00m feats_val]\n\u001b[1;32m     24\u001b[0m \u001b[39m# Compute accuracy on train and validation set\u001b[39;00m\n\u001b[1;32m     25\u001b[0m acc_train \u001b[39m=\u001b[39m accuracy(Y_train, predictions_train)\n",
      "Cell \u001b[0;32mIn [18], line 2\u001b[0m, in \u001b[0;36mvariational_classifier\u001b[0;34m(weights, bias, feature_vector)\u001b[0m\n\u001b[1;32m      1\u001b[0m \u001b[39mdef\u001b[39;00m \u001b[39mvariational_classifier\u001b[39m(weights, bias,feature_vector):\n\u001b[0;32m----> 2\u001b[0m     \u001b[39mreturn\u001b[39;00m circuit( feature_vector,weights)\u001b[39m+\u001b[39mbias\n",
      "File \u001b[0;32m~/opt/miniconda3/envs/tensorflow/lib/python3.9/site-packages/pennylane/qnode.py:661\u001b[0m, in \u001b[0;36mQNode.__call__\u001b[0;34m(self, *args, **kwargs)\u001b[0m\n\u001b[1;32m    657\u001b[0m             res \u001b[39m=\u001b[39m \u001b[39mtuple\u001b[39m(res)\n\u001b[1;32m    659\u001b[0m     \u001b[39mreturn\u001b[39;00m res\n\u001b[0;32m--> 661\u001b[0m res \u001b[39m=\u001b[39m qml\u001b[39m.\u001b[39;49mexecute(\n\u001b[1;32m    662\u001b[0m     [\u001b[39mself\u001b[39;49m\u001b[39m.\u001b[39;49mtape],\n\u001b[1;32m    663\u001b[0m     device\u001b[39m=\u001b[39;49m\u001b[39mself\u001b[39;49m\u001b[39m.\u001b[39;49mdevice,\n\u001b[1;32m    664\u001b[0m     gradient_fn\u001b[39m=\u001b[39;49m\u001b[39mself\u001b[39;49m\u001b[39m.\u001b[39;49mgradient_fn,\n\u001b[1;32m    665\u001b[0m     interface\u001b[39m=\u001b[39;49m\u001b[39mself\u001b[39;49m\u001b[39m.\u001b[39;49minterface,\n\u001b[1;32m    666\u001b[0m     gradient_kwargs\u001b[39m=\u001b[39;49m\u001b[39mself\u001b[39;49m\u001b[39m.\u001b[39;49mgradient_kwargs,\n\u001b[1;32m    667\u001b[0m     override_shots\u001b[39m=\u001b[39;49moverride_shots,\n\u001b[1;32m    668\u001b[0m     \u001b[39m*\u001b[39;49m\u001b[39m*\u001b[39;49m\u001b[39mself\u001b[39;49m\u001b[39m.\u001b[39;49mexecute_kwargs,\n\u001b[1;32m    669\u001b[0m )\n\u001b[1;32m    671\u001b[0m \u001b[39mif\u001b[39;00m autograd\u001b[39m.\u001b[39misinstance(res, (\u001b[39mtuple\u001b[39m, \u001b[39mlist\u001b[39m)) \u001b[39mand\u001b[39;00m \u001b[39mlen\u001b[39m(res) \u001b[39m==\u001b[39m \u001b[39m1\u001b[39m:\n\u001b[1;32m    672\u001b[0m     \u001b[39m# If a device batch transform was applied, we need to 'unpack'\u001b[39;00m\n\u001b[1;32m    673\u001b[0m     \u001b[39m# the returned tuple/list to a float.\u001b[39;00m\n\u001b[0;32m   (...)\u001b[0m\n\u001b[1;32m    680\u001b[0m     \u001b[39m# TODO: find a more explicit way of determining that a batch transform\u001b[39;00m\n\u001b[1;32m    681\u001b[0m     \u001b[39m# was applied.\u001b[39;00m\n\u001b[1;32m    683\u001b[0m     res \u001b[39m=\u001b[39m res[\u001b[39m0\u001b[39m]\n",
      "File \u001b[0;32m~/opt/miniconda3/envs/tensorflow/lib/python3.9/site-packages/pennylane/interfaces/execution.py:370\u001b[0m, in \u001b[0;36mexecute\u001b[0;34m(tapes, device, gradient_fn, interface, mode, gradient_kwargs, cache, cachesize, max_diff, override_shots, expand_fn, max_expansion, device_batch_transform)\u001b[0m\n\u001b[1;32m    366\u001b[0m     \u001b[39mreturn\u001b[39;00m batch_fn(res)\n\u001b[1;32m    368\u001b[0m \u001b[39mif\u001b[39;00m gradient_fn \u001b[39m==\u001b[39m \u001b[39m\"\u001b[39m\u001b[39mbackprop\u001b[39m\u001b[39m\"\u001b[39m \u001b[39mor\u001b[39;00m interface \u001b[39mis\u001b[39;00m \u001b[39mNone\u001b[39;00m:\n\u001b[1;32m    369\u001b[0m     \u001b[39mreturn\u001b[39;00m batch_fn(\n\u001b[0;32m--> 370\u001b[0m         qml\u001b[39m.\u001b[39;49minterfaces\u001b[39m.\u001b[39;49mcache_execute(\n\u001b[1;32m    371\u001b[0m             batch_execute, cache, return_tuple\u001b[39m=\u001b[39;49m\u001b[39mFalse\u001b[39;49;00m, expand_fn\u001b[39m=\u001b[39;49mexpand_fn\n\u001b[1;32m    372\u001b[0m         )(tapes)\n\u001b[1;32m    373\u001b[0m     )\n\u001b[1;32m    375\u001b[0m \u001b[39m# the default execution function is batch_execute\u001b[39;00m\n\u001b[1;32m    376\u001b[0m execute_fn \u001b[39m=\u001b[39m qml\u001b[39m.\u001b[39minterfaces\u001b[39m.\u001b[39mcache_execute(batch_execute, cache, expand_fn\u001b[39m=\u001b[39mexpand_fn)\n",
      "File \u001b[0;32m~/opt/miniconda3/envs/tensorflow/lib/python3.9/site-packages/pennylane/interfaces/execution.py:197\u001b[0m, in \u001b[0;36mcache_execute.<locals>.wrapper\u001b[0;34m(tapes, **kwargs)\u001b[0m\n\u001b[1;32m    193\u001b[0m         \u001b[39mreturn\u001b[39;00m (res, []) \u001b[39mif\u001b[39;00m return_tuple \u001b[39melse\u001b[39;00m res\n\u001b[1;32m    195\u001b[0m \u001b[39melse\u001b[39;00m:\n\u001b[1;32m    196\u001b[0m     \u001b[39m# execute all unique tapes that do not exist in the cache\u001b[39;00m\n\u001b[0;32m--> 197\u001b[0m     res \u001b[39m=\u001b[39m fn(execution_tapes\u001b[39m.\u001b[39;49mvalues(), \u001b[39m*\u001b[39;49m\u001b[39m*\u001b[39;49mkwargs)\n\u001b[1;32m    199\u001b[0m final_res \u001b[39m=\u001b[39m []\n\u001b[1;32m    201\u001b[0m \u001b[39mfor\u001b[39;00m i, tape \u001b[39min\u001b[39;00m \u001b[39menumerate\u001b[39m(tapes):\n",
      "File \u001b[0;32m~/opt/miniconda3/envs/tensorflow/lib/python3.9/site-packages/pennylane/interfaces/execution.py:122\u001b[0m, in \u001b[0;36mcache_execute.<locals>.fn\u001b[0;34m(tapes, **kwargs)\u001b[0m\n\u001b[1;32m    120\u001b[0m \u001b[39mdef\u001b[39;00m \u001b[39mfn\u001b[39m(tapes, \u001b[39m*\u001b[39m\u001b[39m*\u001b[39mkwargs):  \u001b[39m# pylint: disable=function-redefined\u001b[39;00m\n\u001b[1;32m    121\u001b[0m     tapes \u001b[39m=\u001b[39m [expand_fn(tape) \u001b[39mfor\u001b[39;00m tape \u001b[39min\u001b[39;00m tapes]\n\u001b[0;32m--> 122\u001b[0m     \u001b[39mreturn\u001b[39;00m original_fn(tapes, \u001b[39m*\u001b[39;49m\u001b[39m*\u001b[39;49mkwargs)\n",
      "File \u001b[0;32m~/opt/miniconda3/envs/tensorflow/lib/python3.9/contextlib.py:79\u001b[0m, in \u001b[0;36mContextDecorator.__call__.<locals>.inner\u001b[0;34m(*args, **kwds)\u001b[0m\n\u001b[1;32m     76\u001b[0m \u001b[39m@wraps\u001b[39m(func)\n\u001b[1;32m     77\u001b[0m \u001b[39mdef\u001b[39;00m \u001b[39minner\u001b[39m(\u001b[39m*\u001b[39margs, \u001b[39m*\u001b[39m\u001b[39m*\u001b[39mkwds):\n\u001b[1;32m     78\u001b[0m     \u001b[39mwith\u001b[39;00m \u001b[39mself\u001b[39m\u001b[39m.\u001b[39m_recreate_cm():\n\u001b[0;32m---> 79\u001b[0m         \u001b[39mreturn\u001b[39;00m func(\u001b[39m*\u001b[39;49margs, \u001b[39m*\u001b[39;49m\u001b[39m*\u001b[39;49mkwds)\n",
      "File \u001b[0;32m~/opt/miniconda3/envs/tensorflow/lib/python3.9/site-packages/pennylane/_qubit_device.py:586\u001b[0m, in \u001b[0;36mQubitDevice.batch_execute\u001b[0;34m(self, circuits)\u001b[0m\n\u001b[1;32m    583\u001b[0m     \u001b[39mself\u001b[39m\u001b[39m.\u001b[39mreset()\n\u001b[1;32m    585\u001b[0m     \u001b[39m# TODO: Insert control on value here\u001b[39;00m\n\u001b[0;32m--> 586\u001b[0m     res \u001b[39m=\u001b[39m \u001b[39mself\u001b[39;49m\u001b[39m.\u001b[39;49mexecute(circuit)\n\u001b[1;32m    587\u001b[0m     results\u001b[39m.\u001b[39mappend(res)\n\u001b[1;32m    589\u001b[0m \u001b[39mif\u001b[39;00m \u001b[39mself\u001b[39m\u001b[39m.\u001b[39mtracker\u001b[39m.\u001b[39mactive:\n",
      "File \u001b[0;32m~/opt/miniconda3/envs/tensorflow/lib/python3.9/site-packages/pennylane/_qubit_device.py:315\u001b[0m, in \u001b[0;36mQubitDevice.execute\u001b[0;34m(self, circuit, **kwargs)\u001b[0m\n\u001b[1;32m    312\u001b[0m \u001b[39mself\u001b[39m\u001b[39m.\u001b[39mcheck_validity(circuit\u001b[39m.\u001b[39moperations, circuit\u001b[39m.\u001b[39mobservables)\n\u001b[1;32m    314\u001b[0m \u001b[39m# apply all circuit operations\u001b[39;00m\n\u001b[0;32m--> 315\u001b[0m \u001b[39mself\u001b[39;49m\u001b[39m.\u001b[39;49mapply(circuit\u001b[39m.\u001b[39;49moperations, rotations\u001b[39m=\u001b[39;49mcircuit\u001b[39m.\u001b[39;49mdiagonalizing_gates, \u001b[39m*\u001b[39;49m\u001b[39m*\u001b[39;49mkwargs)\n\u001b[1;32m    317\u001b[0m \u001b[39m# generate computational basis samples\u001b[39;00m\n\u001b[1;32m    318\u001b[0m \u001b[39mif\u001b[39;00m \u001b[39mself\u001b[39m\u001b[39m.\u001b[39mshots \u001b[39mis\u001b[39;00m \u001b[39mnot\u001b[39;00m \u001b[39mNone\u001b[39;00m \u001b[39mor\u001b[39;00m circuit\u001b[39m.\u001b[39mis_sampled:\n",
      "File \u001b[0;32m~/opt/miniconda3/envs/tensorflow/lib/python3.9/site-packages/pennylane/devices/default_qubit.py:257\u001b[0m, in \u001b[0;36mDefaultQubit.apply\u001b[0;34m(self, operations, rotations, **kwargs)\u001b[0m\n\u001b[1;32m    255\u001b[0m                 \u001b[39mself\u001b[39m\u001b[39m.\u001b[39m_debugger\u001b[39m.\u001b[39msnapshots[\u001b[39mlen\u001b[39m(\u001b[39mself\u001b[39m\u001b[39m.\u001b[39m_debugger\u001b[39m.\u001b[39msnapshots)] \u001b[39m=\u001b[39m state_vector\n\u001b[1;32m    256\u001b[0m     \u001b[39melse\u001b[39;00m:\n\u001b[0;32m--> 257\u001b[0m         \u001b[39mself\u001b[39m\u001b[39m.\u001b[39m_state \u001b[39m=\u001b[39m \u001b[39mself\u001b[39;49m\u001b[39m.\u001b[39;49m_apply_operation(\u001b[39mself\u001b[39;49m\u001b[39m.\u001b[39;49m_state, operation)\n\u001b[1;32m    259\u001b[0m \u001b[39m# store the pre-rotated state\u001b[39;00m\n\u001b[1;32m    260\u001b[0m \u001b[39mself\u001b[39m\u001b[39m.\u001b[39m_pre_rotated_state \u001b[39m=\u001b[39m \u001b[39mself\u001b[39m\u001b[39m.\u001b[39m_state\n",
      "File \u001b[0;32m~/opt/miniconda3/envs/tensorflow/lib/python3.9/site-packages/pennylane/devices/default_qubit.py:285\u001b[0m, in \u001b[0;36mDefaultQubit._apply_operation\u001b[0;34m(self, state, operation)\u001b[0m\n\u001b[1;32m    282\u001b[0m     axes \u001b[39m=\u001b[39m [ax \u001b[39m+\u001b[39m shift \u001b[39mfor\u001b[39;00m ax \u001b[39min\u001b[39;00m \u001b[39mself\u001b[39m\u001b[39m.\u001b[39mwires\u001b[39m.\u001b[39mindices(wires)]\n\u001b[1;32m    283\u001b[0m     \u001b[39mreturn\u001b[39;00m \u001b[39mself\u001b[39m\u001b[39m.\u001b[39m_apply_ops[operation\u001b[39m.\u001b[39mbase_name](state, axes, inverse\u001b[39m=\u001b[39moperation\u001b[39m.\u001b[39minverse)\n\u001b[0;32m--> 285\u001b[0m matrix \u001b[39m=\u001b[39m \u001b[39mself\u001b[39m\u001b[39m.\u001b[39m_asarray(\u001b[39mself\u001b[39;49m\u001b[39m.\u001b[39;49m_get_unitary_matrix(operation), dtype\u001b[39m=\u001b[39m\u001b[39mself\u001b[39m\u001b[39m.\u001b[39mC_DTYPE)\n\u001b[1;32m    287\u001b[0m \u001b[39mif\u001b[39;00m operation \u001b[39min\u001b[39;00m diagonal_in_z_basis:\n\u001b[1;32m    288\u001b[0m     \u001b[39mreturn\u001b[39;00m \u001b[39mself\u001b[39m\u001b[39m.\u001b[39m_apply_diagonal_unitary(state, matrix, wires)\n",
      "File \u001b[0;32m~/opt/miniconda3/envs/tensorflow/lib/python3.9/site-packages/pennylane/devices/default_qubit.py:619\u001b[0m, in \u001b[0;36mDefaultQubit._get_unitary_matrix\u001b[0;34m(self, unitary)\u001b[0m\n\u001b[1;32m    616\u001b[0m \u001b[39mif\u001b[39;00m unitary \u001b[39min\u001b[39;00m diagonal_in_z_basis:\n\u001b[1;32m    617\u001b[0m     \u001b[39mreturn\u001b[39;00m unitary\u001b[39m.\u001b[39meigvals()\n\u001b[0;32m--> 619\u001b[0m \u001b[39mreturn\u001b[39;00m unitary\u001b[39m.\u001b[39;49mmatrix()\n",
      "File \u001b[0;32m~/opt/miniconda3/envs/tensorflow/lib/python3.9/site-packages/pennylane/operation.py:1391\u001b[0m, in \u001b[0;36mOperation.matrix\u001b[0;34m(self, wire_order)\u001b[0m\n\u001b[1;32m   1390\u001b[0m \u001b[39mdef\u001b[39;00m \u001b[39mmatrix\u001b[39m(\u001b[39mself\u001b[39m, wire_order\u001b[39m=\u001b[39m\u001b[39mNone\u001b[39;00m):\n\u001b[0;32m-> 1391\u001b[0m     canonical_matrix \u001b[39m=\u001b[39m \u001b[39mself\u001b[39;49m\u001b[39m.\u001b[39;49mcompute_matrix(\u001b[39m*\u001b[39;49m\u001b[39mself\u001b[39;49m\u001b[39m.\u001b[39;49mparameters, \u001b[39m*\u001b[39;49m\u001b[39m*\u001b[39;49m\u001b[39mself\u001b[39;49m\u001b[39m.\u001b[39;49mhyperparameters)\n\u001b[1;32m   1393\u001b[0m     \u001b[39mif\u001b[39;00m \u001b[39mself\u001b[39m\u001b[39m.\u001b[39minverse:\n\u001b[1;32m   1394\u001b[0m         canonical_matrix \u001b[39m=\u001b[39m qml\u001b[39m.\u001b[39mmath\u001b[39m.\u001b[39mconj(qml\u001b[39m.\u001b[39mmath\u001b[39m.\u001b[39mmoveaxis(canonical_matrix, \u001b[39m-\u001b[39m\u001b[39m2\u001b[39m, \u001b[39m-\u001b[39m\u001b[39m1\u001b[39m))\n",
      "File \u001b[0;32m~/opt/miniconda3/envs/tensorflow/lib/python3.9/site-packages/pennylane/ops/qubit/parametric_ops.py:209\u001b[0m, in \u001b[0;36mRY.compute_matrix\u001b[0;34m(theta)\u001b[0m\n\u001b[1;32m    187\u001b[0m \u001b[39mr\u001b[39m\u001b[39m\"\"\"Representation of the operator as a canonical matrix in the computational basis (static method).\u001b[39;00m\n\u001b[1;32m    188\u001b[0m \n\u001b[1;32m    189\u001b[0m \u001b[39mThe canonical matrix is the textbook matrix representation that does not consider wires.\u001b[39;00m\n\u001b[0;32m   (...)\u001b[0m\n\u001b[1;32m    205\u001b[0m \u001b[39m        [ 0.2474,  0.9689]])\u001b[39;00m\n\u001b[1;32m    206\u001b[0m \u001b[39m\"\"\"\u001b[39;00m\n\u001b[1;32m    208\u001b[0m c \u001b[39m=\u001b[39m qml\u001b[39m.\u001b[39mmath\u001b[39m.\u001b[39mcos(theta \u001b[39m/\u001b[39m \u001b[39m2\u001b[39m)\n\u001b[0;32m--> 209\u001b[0m s \u001b[39m=\u001b[39m qml\u001b[39m.\u001b[39;49mmath\u001b[39m.\u001b[39;49msin(theta \u001b[39m/\u001b[39;49m \u001b[39m2\u001b[39;49m)\n\u001b[1;32m    210\u001b[0m \u001b[39mif\u001b[39;00m qml\u001b[39m.\u001b[39mmath\u001b[39m.\u001b[39mget_interface(theta) \u001b[39m==\u001b[39m \u001b[39m\"\u001b[39m\u001b[39mtensorflow\u001b[39m\u001b[39m\"\u001b[39m:\n\u001b[1;32m    211\u001b[0m     c \u001b[39m=\u001b[39m qml\u001b[39m.\u001b[39mmath\u001b[39m.\u001b[39mcast_like(c, \u001b[39m1\u001b[39mj)\n",
      "File \u001b[0;32m~/opt/miniconda3/envs/tensorflow/lib/python3.9/site-packages/autoray/autoray.py:85\u001b[0m, in \u001b[0;36mdo\u001b[0;34m(fn, like, *args, **kwargs)\u001b[0m\n\u001b[1;32m     82\u001b[0m \u001b[39melse\u001b[39;00m:\n\u001b[1;32m     83\u001b[0m     backend \u001b[39m=\u001b[39m infer_backend(like)\n\u001b[0;32m---> 85\u001b[0m \u001b[39mreturn\u001b[39;00m get_lib_fn(backend, fn)(\u001b[39m*\u001b[39;49margs, \u001b[39m*\u001b[39;49m\u001b[39m*\u001b[39;49mkwargs)\n",
      "File \u001b[0;32m~/opt/miniconda3/envs/tensorflow/lib/python3.9/site-packages/pennylane/numpy/tensor.py:174\u001b[0m, in \u001b[0;36mtensor.__array_ufunc__\u001b[0;34m(self, ufunc, method, *inputs, **kwargs)\u001b[0m\n\u001b[1;32m    171\u001b[0m \u001b[39m# Iterate through the ufunc outputs and convert each to a PennyLane tensor.\u001b[39;00m\n\u001b[1;32m    172\u001b[0m \u001b[39m# We also correctly set the requires_grad attribute.\u001b[39;00m\n\u001b[1;32m    173\u001b[0m \u001b[39mfor\u001b[39;00m i \u001b[39min\u001b[39;00m \u001b[39mrange\u001b[39m(\u001b[39mlen\u001b[39m(ufunc_output)):  \u001b[39m# pylint: disable=consider-using-enumerate\u001b[39;00m\n\u001b[0;32m--> 174\u001b[0m     ufunc_output[i] \u001b[39m=\u001b[39m tensor(ufunc_output[i], requires_grad\u001b[39m=\u001b[39;49mrequires_grad)\n\u001b[1;32m    176\u001b[0m \u001b[39mif\u001b[39;00m \u001b[39mlen\u001b[39m(ufunc_output) \u001b[39m==\u001b[39m \u001b[39m1\u001b[39m:\n\u001b[1;32m    177\u001b[0m     \u001b[39m# the ufunc has a single output so return a single tensor\u001b[39;00m\n\u001b[1;32m    178\u001b[0m     \u001b[39mreturn\u001b[39;00m ufunc_output[\u001b[39m0\u001b[39m]\n",
      "File \u001b[0;32m~/opt/miniconda3/envs/tensorflow/lib/python3.9/site-packages/pennylane/numpy/tensor.py:111\u001b[0m, in \u001b[0;36mtensor.__new__\u001b[0;34m(cls, input_array, requires_grad, *args, **kwargs)\u001b[0m\n\u001b[1;32m    110\u001b[0m \u001b[39mdef\u001b[39;00m \u001b[39m__new__\u001b[39m(\u001b[39mcls\u001b[39m, input_array, \u001b[39m*\u001b[39margs, requires_grad\u001b[39m=\u001b[39m\u001b[39mTrue\u001b[39;00m, \u001b[39m*\u001b[39m\u001b[39m*\u001b[39mkwargs):\n\u001b[0;32m--> 111\u001b[0m     obj \u001b[39m=\u001b[39m asarray(input_array, \u001b[39m*\u001b[39margs, \u001b[39m*\u001b[39m\u001b[39m*\u001b[39mkwargs)\n\u001b[1;32m    113\u001b[0m     \u001b[39mif\u001b[39;00m \u001b[39misinstance\u001b[39m(obj, onp\u001b[39m.\u001b[39mndarray):\n\u001b[1;32m    114\u001b[0m         obj \u001b[39m=\u001b[39m obj\u001b[39m.\u001b[39mview(\u001b[39mcls\u001b[39m)\n",
      "\u001b[0;31mKeyboardInterrupt\u001b[0m: "
     ]
    }
   ],
   "source": [
    "opt = NesterovMomentumOptimizer(stepsize=0.02)\n",
    "\n",
    "def mini_batch_iter(batch_size, features, labels):\n",
    "    num_examples = len(features)\n",
    "    indices = list(range(num_examples))\n",
    "    # The examples are read at random, in no particular order\n",
    "    random.shuffle(indices)\n",
    "    for i in range(0, num_examples, batch_size):\n",
    "        j = tf.constant(indices[i:min(i + batch_size, num_examples)])\n",
    "        yield tf.gather(features, j), tf.gather(labels, j)\n",
    "\n",
    "num_epochs = 100\n",
    "batch_size = 20\n",
    "for epoch in range(num_epochs):\n",
    "    for feats_train_batch, Y_train_batch in mini_batch_iter(batch_size, feats_train, Y_train):\n",
    "        feats_train_batch = feats_train_batch.numpy()\n",
    "        Y_train_batch = Y_train_batch.numpy()\n",
    "        # Update the weights by one optimizer step\n",
    "        weights, bias, _, _ = opt.step(cost, weights, bias,feats_train_batch , Y_train_batch)\n",
    "    \n",
    "    # Compute predictions on train and validation set\n",
    "    predictions_train = [np.sign(variational_classifier(weights, bias, f)) for f in feats_train]\n",
    "    predictions_val = [np.sign(variational_classifier(weights, bias, f)) for f in feats_val]\n",
    "    # Compute accuracy on train and validation set\n",
    "    acc_train = accuracy(Y_train, predictions_train)\n",
    "    acc_val = accuracy(Y_val, predictions_val)\n",
    "    print(\n",
    "        \"Epoch: {:5d} | Cost: {:0.7f} | Acc train: {:0.7f} | Acc validation: {:0.7f} \"\n",
    "        \"\".format(epoch + 1, cost(weights, bias, X, y), acc_train, acc_val)+str([ float(\"{:.5f}\".format(elem)) for elem in weights.flatten().tolist() ])+str( float(\"{:.5f}\".format(bias)))\n",
    "    )"
   ]
  },
  {
   "cell_type": "code",
   "execution_count": null,
   "metadata": {},
   "outputs": [],
   "source": []
  }
 ],
 "metadata": {
  "kernelspec": {
   "display_name": "Python 3.9.13 ('tensorflow')",
   "language": "python",
   "name": "python3"
  },
  "language_info": {
   "codemirror_mode": {
    "name": "ipython",
    "version": 3
   },
   "file_extension": ".py",
   "mimetype": "text/x-python",
   "name": "python",
   "nbconvert_exporter": "python",
   "pygments_lexer": "ipython3",
   "version": "3.9.13"
  },
  "orig_nbformat": 4,
  "vscode": {
   "interpreter": {
    "hash": "f98fa30951e4edd6ca9e56b4b2acc5c152a50c57a86f98da4cb3c33800cfbf2a"
   }
  }
 },
 "nbformat": 4,
 "nbformat_minor": 2
}
