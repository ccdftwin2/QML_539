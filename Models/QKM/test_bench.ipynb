{
 "cells": [
  {
   "cell_type": "code",
   "execution_count": 15,
   "metadata": {},
   "outputs": [
    {
     "name": "stdout",
     "output_type": "stream",
     "text": [
      "Mean:  -2.7057986891092924e-17 Standard Deviation:  1.0\n",
      "Unique labels: [-1.  1.]\n"
     ]
    }
   ],
   "source": [
    "import numpy as np\n",
    "import pandas as pd\n",
    "import os\n",
    "import time\n",
    "from sklearn.metrics import classification_report, confusion_matrix, accuracy_score\n",
    "from sklearn.svm import SVC\n",
    "from sklearn.preprocessing import StandardScaler\n",
    "from sklearn.model_selection import train_test_split\n",
    "from sklearn.metrics import accuracy_score\n",
    "import pennylane as qml\n",
    "from pennylane.templates import AngleEmbedding, StronglyEntanglingLayers\n",
    "from pennylane.operation import Tensor\n",
    "import matplotlib.pyplot as plt\n",
    "\n",
    "# get the current directory\n",
    "cur_dir = os.getcwd()\n",
    "\n",
    "# Import the dataset\n",
    "df = pd.read_csv(os.path.join(cur_dir, '../../Datasets/normalized_heart.csv'), header=0)\n",
    "\n",
    "# split into x, y\n",
    "X, y = df.drop('output', axis=1), df['output']\n",
    "\n",
    "# Need to scale the data to normal distribution for embeddings to work\n",
    "scaler = StandardScaler().fit(X)\n",
    "X_scaled = scaler.transform(X)\n",
    "print(\"Mean: \", X_scaled.mean(), \"Standard Deviation: \", X_scaled.std())\n",
    "y_scaled = 2 * (y - 0.5)\n",
    "print(\"Unique labels:\", np.unique(y_scaled))\n",
    "\n",
    "# Train/test split for model development\n",
    "X_train, X_test, y_train, y_test = train_test_split(X_scaled, y_scaled)\n",
    "\n",
    "# Embed the data. First define the number of qubits\n",
    "n_qubits = len(X_scaled[0])\n",
    "\n",
    "# Set up the projector\n",
    "dev_kernel = qml.device(\"default.qubit\", wires=n_qubits)\n",
    "\n",
    "projector = np.zeros((2**n_qubits, 2**n_qubits))\n",
    "projector[0, 0] = 1\n",
    "\n",
    "# Define the kernel\n",
    "@qml.qnode(dev_kernel)\n",
    "def kernel(x1, x2):\n",
    "    \"\"\"The quantum kernel.\"\"\"\n",
    "    AngleEmbedding(x1, wires=range(n_qubits))\n",
    "    qml.adjoint(AngleEmbedding)(x2, wires=range(n_qubits))\n",
    "    return qml.expval(qml.Hermitian(projector, wires=range(n_qubits)))\n",
    "\n",
    "# Needed for SVC function\n",
    "def kernel_matrix(A, B):\n",
    "    return np.array([[kernel(a, b) for b in B] for a in A])"
   ]
  },
  {
   "cell_type": "code",
   "execution_count": 16,
   "metadata": {},
   "outputs": [
    {
     "name": "stdout",
     "output_type": "stream",
     "text": [
      "[-0.7021358   0.68100522  1.00257707 -0.43541521  0.1688269   2.394438\n",
      "  0.89896224  1.10870541 -0.69663055 -0.89686172  0.97635214  1.24459328\n",
      " -0.51292188]\n"
     ]
    },
    {
     "ename": "KeyboardInterrupt",
     "evalue": "",
     "output_type": "error",
     "traceback": [
      "\u001b[1;31m---------------------------------------------------------------------------\u001b[0m",
      "\u001b[1;31mKeyboardInterrupt\u001b[0m                         Traceback (most recent call last)",
      "\u001b[1;32mc:\\Users\\Collin Frink\\Documents\\College\\CS539\\Project\\github\\QML_539\\Models\\QKM\\test_bench.ipynb Cell 2\u001b[0m in \u001b[0;36m<cell line: 2>\u001b[1;34m()\u001b[0m\n\u001b[0;32m      <a href='vscode-notebook-cell:/c%3A/Users/Collin%20Frink/Documents/College/CS539/Project/github/QML_539/Models/QKM/test_bench.ipynb#W1sZmlsZQ%3D%3D?line=0'>1</a>\u001b[0m \u001b[39mprint\u001b[39m(X_train[\u001b[39m0\u001b[39m])\n\u001b[1;32m----> <a href='vscode-notebook-cell:/c%3A/Users/Collin%20Frink/Documents/College/CS539/Project/github/QML_539/Models/QKM/test_bench.ipynb#W1sZmlsZQ%3D%3D?line=1'>2</a>\u001b[0m k \u001b[39m=\u001b[39m kernel(X_train[\u001b[39m0\u001b[39;49m], X_train[\u001b[39m2\u001b[39;49m])\n",
      "File \u001b[1;32mc:\\Users\\Collin Frink\\anaconda3\\envs\\qiskit\\lib\\site-packages\\pennylane\\qnode.py:661\u001b[0m, in \u001b[0;36mQNode.__call__\u001b[1;34m(self, *args, **kwargs)\u001b[0m\n\u001b[0;32m    657\u001b[0m             res \u001b[39m=\u001b[39m \u001b[39mtuple\u001b[39m(res)\n\u001b[0;32m    659\u001b[0m     \u001b[39mreturn\u001b[39;00m res\n\u001b[1;32m--> 661\u001b[0m res \u001b[39m=\u001b[39m qml\u001b[39m.\u001b[39mexecute(\n\u001b[0;32m    662\u001b[0m     [\u001b[39mself\u001b[39m\u001b[39m.\u001b[39mtape],\n\u001b[0;32m    663\u001b[0m     device\u001b[39m=\u001b[39m\u001b[39mself\u001b[39m\u001b[39m.\u001b[39mdevice,\n\u001b[0;32m    664\u001b[0m     gradient_fn\u001b[39m=\u001b[39m\u001b[39mself\u001b[39m\u001b[39m.\u001b[39mgradient_fn,\n\u001b[0;32m    665\u001b[0m     interface\u001b[39m=\u001b[39m\u001b[39mself\u001b[39m\u001b[39m.\u001b[39minterface,\n\u001b[0;32m    666\u001b[0m     gradient_kwargs\u001b[39m=\u001b[39m\u001b[39mself\u001b[39m\u001b[39m.\u001b[39mgradient_kwargs,\n\u001b[0;32m    667\u001b[0m     override_shots\u001b[39m=\u001b[39moverride_shots,\n\u001b[0;32m    668\u001b[0m     \u001b[39m*\u001b[39m\u001b[39m*\u001b[39m\u001b[39mself\u001b[39m\u001b[39m.\u001b[39mexecute_kwargs,\n\u001b[0;32m    669\u001b[0m )\n\u001b[0;32m    671\u001b[0m \u001b[39mif\u001b[39;00m autograd\u001b[39m.\u001b[39misinstance(res, (\u001b[39mtuple\u001b[39m, \u001b[39mlist\u001b[39m)) \u001b[39mand\u001b[39;00m \u001b[39mlen\u001b[39m(res) \u001b[39m==\u001b[39m \u001b[39m1\u001b[39m:\n\u001b[0;32m    672\u001b[0m     \u001b[39m# If a device batch transform was applied, we need to 'unpack'\u001b[39;00m\n\u001b[0;32m    673\u001b[0m     \u001b[39m# the returned tuple/list to a float.\u001b[39;00m\n\u001b[1;32m   (...)\u001b[0m\n\u001b[0;32m    680\u001b[0m     \u001b[39m# TODO: find a more explicit way of determining that a batch transform\u001b[39;00m\n\u001b[0;32m    681\u001b[0m     \u001b[39m# was applied.\u001b[39;00m\n\u001b[0;32m    683\u001b[0m     res \u001b[39m=\u001b[39m res[\u001b[39m0\u001b[39m]\n",
      "File \u001b[1;32mc:\\Users\\Collin Frink\\anaconda3\\envs\\qiskit\\lib\\site-packages\\pennylane\\interfaces\\execution.py:370\u001b[0m, in \u001b[0;36mexecute\u001b[1;34m(tapes, device, gradient_fn, interface, mode, gradient_kwargs, cache, cachesize, max_diff, override_shots, expand_fn, max_expansion, device_batch_transform)\u001b[0m\n\u001b[0;32m    366\u001b[0m     \u001b[39mreturn\u001b[39;00m batch_fn(res)\n\u001b[0;32m    368\u001b[0m \u001b[39mif\u001b[39;00m gradient_fn \u001b[39m==\u001b[39m \u001b[39m\"\u001b[39m\u001b[39mbackprop\u001b[39m\u001b[39m\"\u001b[39m \u001b[39mor\u001b[39;00m interface \u001b[39mis\u001b[39;00m \u001b[39mNone\u001b[39;00m:\n\u001b[0;32m    369\u001b[0m     \u001b[39mreturn\u001b[39;00m batch_fn(\n\u001b[1;32m--> 370\u001b[0m         qml\u001b[39m.\u001b[39;49minterfaces\u001b[39m.\u001b[39;49mcache_execute(\n\u001b[0;32m    371\u001b[0m             batch_execute, cache, return_tuple\u001b[39m=\u001b[39;49m\u001b[39mFalse\u001b[39;49;00m, expand_fn\u001b[39m=\u001b[39;49mexpand_fn\n\u001b[0;32m    372\u001b[0m         )(tapes)\n\u001b[0;32m    373\u001b[0m     )\n\u001b[0;32m    375\u001b[0m \u001b[39m# the default execution function is batch_execute\u001b[39;00m\n\u001b[0;32m    376\u001b[0m execute_fn \u001b[39m=\u001b[39m qml\u001b[39m.\u001b[39minterfaces\u001b[39m.\u001b[39mcache_execute(batch_execute, cache, expand_fn\u001b[39m=\u001b[39mexpand_fn)\n",
      "File \u001b[1;32mc:\\Users\\Collin Frink\\anaconda3\\envs\\qiskit\\lib\\site-packages\\pennylane\\interfaces\\execution.py:197\u001b[0m, in \u001b[0;36mcache_execute.<locals>.wrapper\u001b[1;34m(tapes, **kwargs)\u001b[0m\n\u001b[0;32m    193\u001b[0m         \u001b[39mreturn\u001b[39;00m (res, []) \u001b[39mif\u001b[39;00m return_tuple \u001b[39melse\u001b[39;00m res\n\u001b[0;32m    195\u001b[0m \u001b[39melse\u001b[39;00m:\n\u001b[0;32m    196\u001b[0m     \u001b[39m# execute all unique tapes that do not exist in the cache\u001b[39;00m\n\u001b[1;32m--> 197\u001b[0m     res \u001b[39m=\u001b[39m fn(execution_tapes\u001b[39m.\u001b[39mvalues(), \u001b[39m*\u001b[39m\u001b[39m*\u001b[39mkwargs)\n\u001b[0;32m    199\u001b[0m final_res \u001b[39m=\u001b[39m []\n\u001b[0;32m    201\u001b[0m \u001b[39mfor\u001b[39;00m i, tape \u001b[39min\u001b[39;00m \u001b[39menumerate\u001b[39m(tapes):\n",
      "File \u001b[1;32mc:\\Users\\Collin Frink\\anaconda3\\envs\\qiskit\\lib\\site-packages\\pennylane\\interfaces\\execution.py:122\u001b[0m, in \u001b[0;36mcache_execute.<locals>.fn\u001b[1;34m(tapes, **kwargs)\u001b[0m\n\u001b[0;32m    120\u001b[0m \u001b[39mdef\u001b[39;00m \u001b[39mfn\u001b[39m(tapes, \u001b[39m*\u001b[39m\u001b[39m*\u001b[39mkwargs):  \u001b[39m# pylint: disable=function-redefined\u001b[39;00m\n\u001b[0;32m    121\u001b[0m     tapes \u001b[39m=\u001b[39m [expand_fn(tape) \u001b[39mfor\u001b[39;00m tape \u001b[39min\u001b[39;00m tapes]\n\u001b[1;32m--> 122\u001b[0m     \u001b[39mreturn\u001b[39;00m original_fn(tapes, \u001b[39m*\u001b[39m\u001b[39m*\u001b[39mkwargs)\n",
      "File \u001b[1;32mc:\\Users\\Collin Frink\\anaconda3\\envs\\qiskit\\lib\\contextlib.py:79\u001b[0m, in \u001b[0;36mContextDecorator.__call__.<locals>.inner\u001b[1;34m(*args, **kwds)\u001b[0m\n\u001b[0;32m     76\u001b[0m \u001b[39m@wraps\u001b[39m(func)\n\u001b[0;32m     77\u001b[0m \u001b[39mdef\u001b[39;00m \u001b[39minner\u001b[39m(\u001b[39m*\u001b[39margs, \u001b[39m*\u001b[39m\u001b[39m*\u001b[39mkwds):\n\u001b[0;32m     78\u001b[0m     \u001b[39mwith\u001b[39;00m \u001b[39mself\u001b[39m\u001b[39m.\u001b[39m_recreate_cm():\n\u001b[1;32m---> 79\u001b[0m         \u001b[39mreturn\u001b[39;00m func(\u001b[39m*\u001b[39margs, \u001b[39m*\u001b[39m\u001b[39m*\u001b[39mkwds)\n",
      "File \u001b[1;32mc:\\Users\\Collin Frink\\anaconda3\\envs\\qiskit\\lib\\site-packages\\pennylane\\_qubit_device.py:586\u001b[0m, in \u001b[0;36mQubitDevice.batch_execute\u001b[1;34m(self, circuits)\u001b[0m\n\u001b[0;32m    583\u001b[0m     \u001b[39mself\u001b[39m\u001b[39m.\u001b[39mreset()\n\u001b[0;32m    585\u001b[0m     \u001b[39m# TODO: Insert control on value here\u001b[39;00m\n\u001b[1;32m--> 586\u001b[0m     res \u001b[39m=\u001b[39m \u001b[39mself\u001b[39;49m\u001b[39m.\u001b[39;49mexecute(circuit)\n\u001b[0;32m    587\u001b[0m     results\u001b[39m.\u001b[39mappend(res)\n\u001b[0;32m    589\u001b[0m \u001b[39mif\u001b[39;00m \u001b[39mself\u001b[39m\u001b[39m.\u001b[39mtracker\u001b[39m.\u001b[39mactive:\n",
      "File \u001b[1;32mc:\\Users\\Collin Frink\\anaconda3\\envs\\qiskit\\lib\\site-packages\\pennylane\\_qubit_device.py:330\u001b[0m, in \u001b[0;36mQubitDevice.execute\u001b[1;34m(self, circuit, **kwargs)\u001b[0m\n\u001b[0;32m    328\u001b[0m     results \u001b[39m=\u001b[39m \u001b[39mself\u001b[39m\u001b[39m.\u001b[39m_collect_shotvector_results(circuit, counts_exist)\n\u001b[0;32m    329\u001b[0m \u001b[39melse\u001b[39;00m:\n\u001b[1;32m--> 330\u001b[0m     results \u001b[39m=\u001b[39m \u001b[39mself\u001b[39;49m\u001b[39m.\u001b[39;49mstatistics(circuit\u001b[39m.\u001b[39;49mobservables, circuit\u001b[39m=\u001b[39;49mcircuit)\n\u001b[0;32m    332\u001b[0m \u001b[39mif\u001b[39;00m \u001b[39mnot\u001b[39;00m circuit\u001b[39m.\u001b[39mis_sampled:\n\u001b[0;32m    334\u001b[0m     \u001b[39mif\u001b[39;00m \u001b[39mlen\u001b[39m(circuit\u001b[39m.\u001b[39mmeasurements) \u001b[39m==\u001b[39m \u001b[39m1\u001b[39m:\n",
      "File \u001b[1;32mc:\\Users\\Collin Frink\\anaconda3\\envs\\qiskit\\lib\\site-packages\\pennylane\\_qubit_device.py:740\u001b[0m, in \u001b[0;36mQubitDevice.statistics\u001b[1;34m(self, observables, shot_range, bin_size, circuit)\u001b[0m\n\u001b[0;32m    736\u001b[0m \u001b[39mfor\u001b[39;00m obs \u001b[39min\u001b[39;00m observables:\n\u001b[0;32m    737\u001b[0m     \u001b[39m# Pass instances directly\u001b[39;00m\n\u001b[0;32m    738\u001b[0m     \u001b[39mif\u001b[39;00m obs\u001b[39m.\u001b[39mreturn_type \u001b[39mis\u001b[39;00m Expectation:\n\u001b[0;32m    739\u001b[0m         \u001b[39m# Appends a result of shape (num_bins,) if bin_size is not None, else a scalar\u001b[39;00m\n\u001b[1;32m--> 740\u001b[0m         results\u001b[39m.\u001b[39mappend(\u001b[39mself\u001b[39;49m\u001b[39m.\u001b[39;49mexpval(obs, shot_range\u001b[39m=\u001b[39;49mshot_range, bin_size\u001b[39m=\u001b[39;49mbin_size))\n\u001b[0;32m    742\u001b[0m     \u001b[39melif\u001b[39;00m obs\u001b[39m.\u001b[39mreturn_type \u001b[39mis\u001b[39;00m Variance:\n\u001b[0;32m    743\u001b[0m         \u001b[39m# Appends a result of shape (num_bins,) if bin_size is not None, else a scalar\u001b[39;00m\n\u001b[0;32m    744\u001b[0m         results\u001b[39m.\u001b[39mappend(\u001b[39mself\u001b[39m\u001b[39m.\u001b[39mvar(obs, shot_range\u001b[39m=\u001b[39mshot_range, bin_size\u001b[39m=\u001b[39mbin_size))\n",
      "File \u001b[1;32mc:\\Users\\Collin Frink\\anaconda3\\envs\\qiskit\\lib\\site-packages\\pennylane\\devices\\default_qubit.py:603\u001b[0m, in \u001b[0;36mDefaultQubit.expval\u001b[1;34m(self, observable, shot_range, bin_size)\u001b[0m\n\u001b[0;32m    599\u001b[0m         res \u001b[39m=\u001b[39m qml\u001b[39m.\u001b[39mmath\u001b[39m.\u001b[39msqueeze(res)\n\u001b[0;32m    601\u001b[0m     \u001b[39mreturn\u001b[39;00m \u001b[39mself\u001b[39m\u001b[39m.\u001b[39m_real(res)\n\u001b[1;32m--> 603\u001b[0m \u001b[39mreturn\u001b[39;00m \u001b[39msuper\u001b[39;49m()\u001b[39m.\u001b[39;49mexpval(observable, shot_range\u001b[39m=\u001b[39;49mshot_range, bin_size\u001b[39m=\u001b[39;49mbin_size)\n",
      "File \u001b[1;32mc:\\Users\\Collin Frink\\anaconda3\\envs\\qiskit\\lib\\site-packages\\pennylane\\_qubit_device.py:1548\u001b[0m, in \u001b[0;36mQubitDevice.expval\u001b[1;34m(self, observable, shot_range, bin_size)\u001b[0m\n\u001b[0;32m   1546\u001b[0m \u001b[39mif\u001b[39;00m \u001b[39mself\u001b[39m\u001b[39m.\u001b[39mshots \u001b[39mis\u001b[39;00m \u001b[39mNone\u001b[39;00m:\n\u001b[0;32m   1547\u001b[0m     \u001b[39mtry\u001b[39;00m:\n\u001b[1;32m-> 1548\u001b[0m         eigvals \u001b[39m=\u001b[39m \u001b[39mself\u001b[39m\u001b[39m.\u001b[39m_asarray(observable\u001b[39m.\u001b[39;49meigvals(), dtype\u001b[39m=\u001b[39m\u001b[39mself\u001b[39m\u001b[39m.\u001b[39mR_DTYPE)\n\u001b[0;32m   1549\u001b[0m     \u001b[39mexcept\u001b[39;00m qml\u001b[39m.\u001b[39moperation\u001b[39m.\u001b[39mEigvalsUndefinedError \u001b[39mas\u001b[39;00m e:\n\u001b[0;32m   1550\u001b[0m         \u001b[39mraise\u001b[39;00m qml\u001b[39m.\u001b[39moperation\u001b[39m.\u001b[39mEigvalsUndefinedError(\n\u001b[0;32m   1551\u001b[0m             \u001b[39mf\u001b[39m\u001b[39m\"\u001b[39m\u001b[39mCannot compute analytic expectations of \u001b[39m\u001b[39m{\u001b[39;00mobservable\u001b[39m.\u001b[39mname\u001b[39m}\u001b[39;00m\u001b[39m.\u001b[39m\u001b[39m\"\u001b[39m\n\u001b[0;32m   1552\u001b[0m         ) \u001b[39mfrom\u001b[39;00m \u001b[39me\u001b[39;00m\n",
      "File \u001b[1;32mc:\\Users\\Collin Frink\\anaconda3\\envs\\qiskit\\lib\\site-packages\\pennylane\\ops\\qubit\\observables.py:133\u001b[0m, in \u001b[0;36mHermitian.eigvals\u001b[1;34m(self)\u001b[0m\n\u001b[0;32m    124\u001b[0m \u001b[39mdef\u001b[39;00m \u001b[39meigvals\u001b[39m(\u001b[39mself\u001b[39m):\n\u001b[0;32m    125\u001b[0m     \u001b[39m\"\"\"Return the eigenvalues of the specified Hermitian observable.\u001b[39;00m\n\u001b[0;32m    126\u001b[0m \n\u001b[0;32m    127\u001b[0m \u001b[39m    This method uses pre-stored eigenvalues for standard observables where\u001b[39;00m\n\u001b[1;32m   (...)\u001b[0m\n\u001b[0;32m    131\u001b[0m \u001b[39m        array: array containing the eigenvalues of the Hermitian observable\u001b[39;00m\n\u001b[0;32m    132\u001b[0m \u001b[39m    \"\"\"\u001b[39;00m\n\u001b[1;32m--> 133\u001b[0m     \u001b[39mreturn\u001b[39;00m \u001b[39mself\u001b[39;49m\u001b[39m.\u001b[39;49meigendecomposition[\u001b[39m\"\u001b[39m\u001b[39meigval\u001b[39m\u001b[39m\"\u001b[39m]\n",
      "File \u001b[1;32mc:\\Users\\Collin Frink\\anaconda3\\envs\\qiskit\\lib\\site-packages\\pennylane\\ops\\qubit\\observables.py:115\u001b[0m, in \u001b[0;36mHermitian.eigendecomposition\u001b[1;34m(self)\u001b[0m\n\u001b[0;32m    103\u001b[0m \u001b[39m@property\u001b[39m\n\u001b[0;32m    104\u001b[0m \u001b[39mdef\u001b[39;00m \u001b[39meigendecomposition\u001b[39m(\u001b[39mself\u001b[39m):\n\u001b[0;32m    105\u001b[0m     \u001b[39m\"\"\"Return the eigendecomposition of the matrix specified by the Hermitian observable.\u001b[39;00m\n\u001b[0;32m    106\u001b[0m \n\u001b[0;32m    107\u001b[0m \u001b[39m    This method uses pre-stored eigenvalues for standard observables where\u001b[39;00m\n\u001b[1;32m   (...)\u001b[0m\n\u001b[0;32m    113\u001b[0m \u001b[39m        dict[str, array]: dictionary containing the eigenvalues and the eigenvectors of the Hermitian observable\u001b[39;00m\n\u001b[0;32m    114\u001b[0m \u001b[39m    \"\"\"\u001b[39;00m\n\u001b[1;32m--> 115\u001b[0m     Hmat \u001b[39m=\u001b[39m \u001b[39mself\u001b[39;49m\u001b[39m.\u001b[39;49mmatrix()\n\u001b[0;32m    116\u001b[0m     Hmat \u001b[39m=\u001b[39m qml\u001b[39m.\u001b[39mmath\u001b[39m.\u001b[39mto_numpy(Hmat)\n\u001b[0;32m    117\u001b[0m     Hkey \u001b[39m=\u001b[39m \u001b[39mtuple\u001b[39m(Hmat\u001b[39m.\u001b[39mflatten()\u001b[39m.\u001b[39mtolist())\n",
      "File \u001b[1;32mc:\\Users\\Collin Frink\\anaconda3\\envs\\qiskit\\lib\\site-packages\\pennylane\\operation.py:491\u001b[0m, in \u001b[0;36mOperator.matrix\u001b[1;34m(self, wire_order)\u001b[0m\n\u001b[0;32m    471\u001b[0m \u001b[39mdef\u001b[39;00m \u001b[39mmatrix\u001b[39m(\u001b[39mself\u001b[39m, wire_order\u001b[39m=\u001b[39m\u001b[39mNone\u001b[39;00m):\n\u001b[0;32m    472\u001b[0m     \u001b[39mr\u001b[39m\u001b[39m\"\"\"Representation of the operator as a matrix in the computational basis.\u001b[39;00m\n\u001b[0;32m    473\u001b[0m \n\u001b[0;32m    474\u001b[0m \u001b[39m    If ``wire_order`` is provided, the numerical representation considers the position of the\u001b[39;00m\n\u001b[1;32m   (...)\u001b[0m\n\u001b[0;32m    489\u001b[0m \u001b[39m        tensor_like: matrix representation\u001b[39;00m\n\u001b[0;32m    490\u001b[0m \u001b[39m    \"\"\"\u001b[39;00m\n\u001b[1;32m--> 491\u001b[0m     canonical_matrix \u001b[39m=\u001b[39m \u001b[39mself\u001b[39m\u001b[39m.\u001b[39mcompute_matrix(\u001b[39m*\u001b[39m\u001b[39mself\u001b[39m\u001b[39m.\u001b[39mparameters, \u001b[39m*\u001b[39m\u001b[39m*\u001b[39m\u001b[39mself\u001b[39m\u001b[39m.\u001b[39mhyperparameters)\n\u001b[0;32m    493\u001b[0m     \u001b[39mif\u001b[39;00m wire_order \u001b[39mis\u001b[39;00m \u001b[39mNone\u001b[39;00m \u001b[39mor\u001b[39;00m \u001b[39mself\u001b[39m\u001b[39m.\u001b[39mwires \u001b[39m==\u001b[39m Wires(wire_order):\n\u001b[0;32m    494\u001b[0m         \u001b[39mreturn\u001b[39;00m canonical_matrix\n",
      "File \u001b[1;32mc:\\Users\\Collin Frink\\anaconda3\\envs\\qiskit\\lib\\site-packages\\pennylane\\ops\\qubit\\observables.py:98\u001b[0m, in \u001b[0;36mHermitian.compute_matrix\u001b[1;34m(A)\u001b[0m\n\u001b[0;32m     95\u001b[0m \u001b[39mif\u001b[39;00m A\u001b[39m.\u001b[39mshape[\u001b[39m0\u001b[39m] \u001b[39m!=\u001b[39m A\u001b[39m.\u001b[39mshape[\u001b[39m1\u001b[39m]:\n\u001b[0;32m     96\u001b[0m     \u001b[39mraise\u001b[39;00m \u001b[39mValueError\u001b[39;00m(\u001b[39m\"\u001b[39m\u001b[39mObservable must be a square matrix.\u001b[39m\u001b[39m\"\u001b[39m)\n\u001b[1;32m---> 98\u001b[0m \u001b[39mif\u001b[39;00m \u001b[39mnot\u001b[39;00m qml\u001b[39m.\u001b[39;49mmath\u001b[39m.\u001b[39;49mallclose(A, qml\u001b[39m.\u001b[39;49mmath\u001b[39m.\u001b[39;49mT(qml\u001b[39m.\u001b[39;49mmath\u001b[39m.\u001b[39;49mconj(A))):\n\u001b[0;32m     99\u001b[0m     \u001b[39mraise\u001b[39;00m \u001b[39mValueError\u001b[39;00m(\u001b[39m\"\u001b[39m\u001b[39mObservable must be Hermitian.\u001b[39m\u001b[39m\"\u001b[39m)\n\u001b[0;32m    101\u001b[0m \u001b[39mreturn\u001b[39;00m A\n",
      "File \u001b[1;32mc:\\Users\\Collin Frink\\anaconda3\\envs\\qiskit\\lib\\site-packages\\pennylane\\math\\utils.py:61\u001b[0m, in \u001b[0;36mallclose\u001b[1;34m(a, b, rtol, atol, **kwargs)\u001b[0m\n\u001b[0;32m     56\u001b[0m \u001b[39m\"\"\"Wrapper around np.allclose, allowing tensors ``a`` and ``b``\u001b[39;00m\n\u001b[0;32m     57\u001b[0m \u001b[39mto differ in type\"\"\"\u001b[39;00m\n\u001b[0;32m     58\u001b[0m \u001b[39mtry\u001b[39;00m:\n\u001b[0;32m     59\u001b[0m     \u001b[39m# Some frameworks may provide their own allclose implementation.\u001b[39;00m\n\u001b[0;32m     60\u001b[0m     \u001b[39m# Try and use it if available.\u001b[39;00m\n\u001b[1;32m---> 61\u001b[0m     res \u001b[39m=\u001b[39m np\u001b[39m.\u001b[39mallclose(a, b, rtol\u001b[39m=\u001b[39mrtol, atol\u001b[39m=\u001b[39matol, \u001b[39m*\u001b[39m\u001b[39m*\u001b[39mkwargs)\n\u001b[0;32m     62\u001b[0m \u001b[39mexcept\u001b[39;00m (\u001b[39mTypeError\u001b[39;00m, \u001b[39mAttributeError\u001b[39;00m, \u001b[39mImportError\u001b[39;00m, \u001b[39mRuntimeError\u001b[39;00m):\n\u001b[0;32m     63\u001b[0m     \u001b[39m# Otherwise, convert the input to NumPy arrays.\u001b[39;00m\n\u001b[0;32m     64\u001b[0m     \u001b[39m#\u001b[39;00m\n\u001b[1;32m   (...)\u001b[0m\n\u001b[0;32m     68\u001b[0m     \u001b[39m#    np.abs(a - b) <= atol + rtol * np.abs(b)\u001b[39;00m\n\u001b[0;32m     69\u001b[0m     \u001b[39m#\u001b[39;00m\n\u001b[0;32m     70\u001b[0m     t1 \u001b[39m=\u001b[39m ar\u001b[39m.\u001b[39mto_numpy(a)\n",
      "File \u001b[1;32mc:\\Users\\Collin Frink\\anaconda3\\envs\\qiskit\\lib\\site-packages\\autoray\\autoray.py:80\u001b[0m, in \u001b[0;36mdo\u001b[1;34m(fn, like, *args, **kwargs)\u001b[0m\n\u001b[0;32m     31\u001b[0m \u001b[39m\"\"\"Do function named ``fn`` on ``(*args, **kwargs)``, peforming single\u001b[39;00m\n\u001b[0;32m     32\u001b[0m \u001b[39mdispatch to retrieve ``fn`` based on whichever library defines the class of\u001b[39;00m\n\u001b[0;32m     33\u001b[0m \u001b[39mthe ``args[0]``, or the ``like`` keyword argument if specified.\u001b[39;00m\n\u001b[1;32m   (...)\u001b[0m\n\u001b[0;32m     77\u001b[0m \u001b[39m    <tf.Tensor: id=91, shape=(3, 3), dtype=float32>\u001b[39;00m\n\u001b[0;32m     78\u001b[0m \u001b[39m\"\"\"\u001b[39;00m\n\u001b[0;32m     79\u001b[0m backend \u001b[39m=\u001b[39m choose_backend(fn, \u001b[39m*\u001b[39margs, like\u001b[39m=\u001b[39mlike, \u001b[39m*\u001b[39m\u001b[39m*\u001b[39mkwargs)\n\u001b[1;32m---> 80\u001b[0m \u001b[39mreturn\u001b[39;00m get_lib_fn(backend, fn)(\u001b[39m*\u001b[39margs, \u001b[39m*\u001b[39m\u001b[39m*\u001b[39mkwargs)\n",
      "File \u001b[1;32m<__array_function__ internals>:5\u001b[0m, in \u001b[0;36mallclose\u001b[1;34m(*args, **kwargs)\u001b[0m\n",
      "File \u001b[1;32mc:\\Users\\Collin Frink\\anaconda3\\envs\\qiskit\\lib\\site-packages\\numpy\\core\\numeric.py:2249\u001b[0m, in \u001b[0;36mallclose\u001b[1;34m(a, b, rtol, atol, equal_nan)\u001b[0m\n\u001b[0;32m   2179\u001b[0m \u001b[39m@array_function_dispatch\u001b[39m(_allclose_dispatcher)\n\u001b[0;32m   2180\u001b[0m \u001b[39mdef\u001b[39;00m \u001b[39mallclose\u001b[39m(a, b, rtol\u001b[39m=\u001b[39m\u001b[39m1.e-5\u001b[39m, atol\u001b[39m=\u001b[39m\u001b[39m1.e-8\u001b[39m, equal_nan\u001b[39m=\u001b[39m\u001b[39mFalse\u001b[39;00m):\n\u001b[0;32m   2181\u001b[0m     \u001b[39m\"\"\"\u001b[39;00m\n\u001b[0;32m   2182\u001b[0m \u001b[39m    Returns True if two arrays are element-wise equal within a tolerance.\u001b[39;00m\n\u001b[0;32m   2183\u001b[0m \n\u001b[1;32m   (...)\u001b[0m\n\u001b[0;32m   2247\u001b[0m \n\u001b[0;32m   2248\u001b[0m \u001b[39m    \"\"\"\u001b[39;00m\n\u001b[1;32m-> 2249\u001b[0m     res \u001b[39m=\u001b[39m \u001b[39mall\u001b[39m(isclose(a, b, rtol\u001b[39m=\u001b[39;49mrtol, atol\u001b[39m=\u001b[39;49matol, equal_nan\u001b[39m=\u001b[39;49mequal_nan))\n\u001b[0;32m   2250\u001b[0m     \u001b[39mreturn\u001b[39;00m \u001b[39mbool\u001b[39m(res)\n",
      "File \u001b[1;32m<__array_function__ internals>:5\u001b[0m, in \u001b[0;36misclose\u001b[1;34m(*args, **kwargs)\u001b[0m\n",
      "File \u001b[1;32mc:\\Users\\Collin Frink\\anaconda3\\envs\\qiskit\\lib\\site-packages\\numpy\\core\\numeric.py:2358\u001b[0m, in \u001b[0;36misclose\u001b[1;34m(a, b, rtol, atol, equal_nan)\u001b[0m\n\u001b[0;32m   2356\u001b[0m yfin \u001b[39m=\u001b[39m isfinite(y)\n\u001b[0;32m   2357\u001b[0m \u001b[39mif\u001b[39;00m \u001b[39mall\u001b[39m(xfin) \u001b[39mand\u001b[39;00m \u001b[39mall\u001b[39m(yfin):\n\u001b[1;32m-> 2358\u001b[0m     \u001b[39mreturn\u001b[39;00m within_tol(x, y, atol, rtol)\n\u001b[0;32m   2359\u001b[0m \u001b[39melse\u001b[39;00m:\n\u001b[0;32m   2360\u001b[0m     finite \u001b[39m=\u001b[39m xfin \u001b[39m&\u001b[39m yfin\n",
      "File \u001b[1;32mc:\\Users\\Collin Frink\\anaconda3\\envs\\qiskit\\lib\\site-packages\\numpy\\core\\numeric.py:2339\u001b[0m, in \u001b[0;36misclose.<locals>.within_tol\u001b[1;34m(x, y, atol, rtol)\u001b[0m\n\u001b[0;32m   2337\u001b[0m \u001b[39mdef\u001b[39;00m \u001b[39mwithin_tol\u001b[39m(x, y, atol, rtol):\n\u001b[0;32m   2338\u001b[0m     \u001b[39mwith\u001b[39;00m errstate(invalid\u001b[39m=\u001b[39m\u001b[39m'\u001b[39m\u001b[39mignore\u001b[39m\u001b[39m'\u001b[39m):\n\u001b[1;32m-> 2339\u001b[0m         \u001b[39mreturn\u001b[39;00m less_equal(\u001b[39mabs\u001b[39m(x\u001b[39m-\u001b[39;49my), atol \u001b[39m+\u001b[39m rtol \u001b[39m*\u001b[39m \u001b[39mabs\u001b[39m(y))\n",
      "\u001b[1;31mKeyboardInterrupt\u001b[0m: "
     ]
    }
   ],
   "source": [
    "print(X_train[0])\n",
    "k = kernel(X_train[0], X_train[2])"
   ]
  },
  {
   "cell_type": "code",
   "execution_count": null,
   "metadata": {},
   "outputs": [],
   "source": []
  }
 ],
 "metadata": {
  "kernelspec": {
   "display_name": "Python 3.9.12 ('qiskit')",
   "language": "python",
   "name": "python3"
  },
  "language_info": {
   "codemirror_mode": {
    "name": "ipython",
    "version": 3
   },
   "file_extension": ".py",
   "mimetype": "text/x-python",
   "name": "python",
   "nbconvert_exporter": "python",
   "pygments_lexer": "ipython3",
   "version": "3.9.12"
  },
  "orig_nbformat": 4,
  "vscode": {
   "interpreter": {
    "hash": "05f3e146887fc9e0e3fe265cf7d1ea13b2e6af9eddaf9e58012280e1329e0e75"
   }
  }
 },
 "nbformat": 4,
 "nbformat_minor": 2
}
