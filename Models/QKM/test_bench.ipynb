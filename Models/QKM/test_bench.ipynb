{
 "cells": [
  {
   "cell_type": "code",
   "execution_count": 1,
   "metadata": {},
   "outputs": [
    {
     "name": "stdout",
     "output_type": "stream",
     "text": [
      "Mean:  -3.908375884268978e-17 Standard Deviation:  1.0\n",
      "Unique labels: [-1.  1.]\n"
     ]
    }
   ],
   "source": [
    "import numpy as np\n",
    "import retworkx as rx\n",
    "import pandas as pd\n",
    "import os\n",
    "import time\n",
    "from sklearn.metrics import classification_report, confusion_matrix, accuracy_score\n",
    "from sklearn.svm import SVC\n",
    "from sklearn.preprocessing import StandardScaler\n",
    "from sklearn.model_selection import train_test_split\n",
    "from sklearn.metrics import accuracy_score\n",
    "import pennylane as qml\n",
    "from pennylane.templates import AngleEmbedding, StronglyEntanglingLayers\n",
    "from pennylane.operation import Tensor\n",
    "import matplotlib.pyplot as plt\n",
    "\n",
    "# get the current directory\n",
    "cur_dir = os.getcwd()\n",
    "\n",
    "# Import the dataset\n",
    "df = pd.read_csv(os.path.join(cur_dir, '../../Datasets/normalized_heart_slimmed.csv'), header=0)\n",
    "\n",
    "# split into x, y\n",
    "X, y = df.drop('output', axis=1), df['output']\n",
    "\n",
    "# Need to scale the data to normal distribution for embeddings to work\n",
    "scaler = StandardScaler().fit(X)\n",
    "X_scaled = scaler.transform(X)\n",
    "print(\"Mean: \", X_scaled.mean(), \"Standard Deviation: \", X_scaled.std())\n",
    "y_scaled = 2 * (y - 0.5)\n",
    "print(\"Unique labels:\", np.unique(y_scaled))\n",
    "\n",
    "# Train/test split for model development\n",
    "X_train, X_test, y_train, y_test = train_test_split(X_scaled, y_scaled)\n",
    "\n",
    "# Embed the data. First define the number of qubits\n",
    "n_qubits = len(X_scaled[0])\n",
    "\n",
    "# Set up the projector\n",
    "dev_kernel = qml.device(\"default.qubit\", wires=n_qubits)\n",
    "\n",
    "projector = np.zeros((2**n_qubits, 2**n_qubits))\n",
    "projector[0, 0] = 1\n",
    "\n",
    "# Define the kernel\n",
    "@qml.qnode(dev_kernel)\n",
    "def kernel(x1, x2):\n",
    "    \"\"\"The quantum kernel.\"\"\"\n",
    "    AngleEmbedding(x1, wires=range(n_qubits))\n",
    "    qml.adjoint(AngleEmbedding)(x2, wires=range(n_qubits))\n",
    "    return qml.expval(qml.Hermitian(projector, wires=range(n_qubits)))\n",
    "\n",
    "# Needed for SVC function\n",
    "def kernel_matrix(A, B):\n",
    "    return np.array([[kernel(a, b) for b in B] for a in A])"
   ]
  },
  {
   "cell_type": "code",
   "execution_count": 7,
   "metadata": {},
   "outputs": [
    {
     "name": "stdout",
     "output_type": "stream",
     "text": [
      "0\n",
      "1\n",
      "2\n",
      "3\n",
      "4\n",
      "5\n",
      "6\n",
      "7\n",
      "8\n",
      "9\n",
      "10\n",
      "11\n",
      "12\n",
      "13\n",
      "14\n",
      "15\n",
      "16\n",
      "17\n",
      "18\n",
      "19\n",
      "20\n",
      "21\n",
      "22\n",
      "23\n",
      "24\n",
      "25\n",
      "26\n"
     ]
    },
    {
     "ename": "KeyboardInterrupt",
     "evalue": "",
     "output_type": "error",
     "traceback": [
      "\u001b[1;31m---------------------------------------------------------------------------\u001b[0m",
      "\u001b[1;31mKeyboardInterrupt\u001b[0m                         Traceback (most recent call last)",
      "Cell \u001b[1;32mIn [7], line 6\u001b[0m\n\u001b[0;32m      4\u001b[0m \u001b[39mprint\u001b[39m(i)\n\u001b[0;32m      5\u001b[0m \u001b[39mfor\u001b[39;00m j \u001b[39min\u001b[39;00m \u001b[39mrange\u001b[39m(i, X_train\u001b[39m.\u001b[39mshape[\u001b[39m0\u001b[39m]):\n\u001b[1;32m----> 6\u001b[0m     precompute[i, j] \u001b[39m=\u001b[39m kernel(X_train[i], X_train[j])\n\u001b[0;32m      7\u001b[0m     precompute[j, i] \u001b[39m=\u001b[39m precompute[i, j]\n",
      "File \u001b[1;32mc:\\Users\\Collin Frink\\anaconda3\\envs\\qiskit\\lib\\site-packages\\pennylane\\qnode.py:665\u001b[0m, in \u001b[0;36mQNode.__call__\u001b[1;34m(self, *args, **kwargs)\u001b[0m\n\u001b[0;32m    661\u001b[0m     \u001b[39mself\u001b[39m\u001b[39m.\u001b[39m_update_original_device()\n\u001b[0;32m    663\u001b[0m     \u001b[39mreturn\u001b[39;00m res\n\u001b[1;32m--> 665\u001b[0m res \u001b[39m=\u001b[39m qml\u001b[39m.\u001b[39;49mexecute(\n\u001b[0;32m    666\u001b[0m     [\u001b[39mself\u001b[39;49m\u001b[39m.\u001b[39;49mtape],\n\u001b[0;32m    667\u001b[0m     device\u001b[39m=\u001b[39;49m\u001b[39mself\u001b[39;49m\u001b[39m.\u001b[39;49mdevice,\n\u001b[0;32m    668\u001b[0m     gradient_fn\u001b[39m=\u001b[39;49m\u001b[39mself\u001b[39;49m\u001b[39m.\u001b[39;49mgradient_fn,\n\u001b[0;32m    669\u001b[0m     interface\u001b[39m=\u001b[39;49m\u001b[39mself\u001b[39;49m\u001b[39m.\u001b[39;49minterface,\n\u001b[0;32m    670\u001b[0m     gradient_kwargs\u001b[39m=\u001b[39;49m\u001b[39mself\u001b[39;49m\u001b[39m.\u001b[39;49mgradient_kwargs,\n\u001b[0;32m    671\u001b[0m     override_shots\u001b[39m=\u001b[39;49moverride_shots,\n\u001b[0;32m    672\u001b[0m     \u001b[39m*\u001b[39;49m\u001b[39m*\u001b[39;49m\u001b[39mself\u001b[39;49m\u001b[39m.\u001b[39;49mexecute_kwargs,\n\u001b[0;32m    673\u001b[0m )\n\u001b[0;32m    675\u001b[0m \u001b[39mif\u001b[39;00m old_interface \u001b[39m==\u001b[39m \u001b[39m\"\u001b[39m\u001b[39mauto\u001b[39m\u001b[39m\"\u001b[39m:\n\u001b[0;32m    676\u001b[0m     \u001b[39mself\u001b[39m\u001b[39m.\u001b[39minterface \u001b[39m=\u001b[39m \u001b[39m\"\u001b[39m\u001b[39mauto\u001b[39m\u001b[39m\"\u001b[39m\n",
      "File \u001b[1;32mc:\\Users\\Collin Frink\\anaconda3\\envs\\qiskit\\lib\\site-packages\\pennylane\\interfaces\\execution.py:645\u001b[0m, in \u001b[0;36mexecute\u001b[1;34m(tapes, device, gradient_fn, interface, mode, gradient_kwargs, cache, cachesize, max_diff, override_shots, expand_fn, max_expansion, device_batch_transform)\u001b[0m\n\u001b[0;32m    641\u001b[0m     \u001b[39mreturn\u001b[39;00m batch_fn(res)\n\u001b[0;32m    643\u001b[0m \u001b[39mif\u001b[39;00m gradient_fn \u001b[39m==\u001b[39m \u001b[39m\"\u001b[39m\u001b[39mbackprop\u001b[39m\u001b[39m\"\u001b[39m \u001b[39mor\u001b[39;00m interface \u001b[39mis\u001b[39;00m \u001b[39mNone\u001b[39;00m:\n\u001b[0;32m    644\u001b[0m     \u001b[39mreturn\u001b[39;00m batch_fn(\n\u001b[1;32m--> 645\u001b[0m         qml\u001b[39m.\u001b[39;49minterfaces\u001b[39m.\u001b[39;49mcache_execute(\n\u001b[0;32m    646\u001b[0m             batch_execute, cache, return_tuple\u001b[39m=\u001b[39;49m\u001b[39mFalse\u001b[39;49;00m, expand_fn\u001b[39m=\u001b[39;49mexpand_fn\n\u001b[0;32m    647\u001b[0m         )(tapes)\n\u001b[0;32m    648\u001b[0m     )\n\u001b[0;32m    650\u001b[0m \u001b[39m# the default execution function is batch_execute\u001b[39;00m\n\u001b[0;32m    651\u001b[0m execute_fn \u001b[39m=\u001b[39m qml\u001b[39m.\u001b[39minterfaces\u001b[39m.\u001b[39mcache_execute(batch_execute, cache, expand_fn\u001b[39m=\u001b[39mexpand_fn)\n",
      "File \u001b[1;32mc:\\Users\\Collin Frink\\anaconda3\\envs\\qiskit\\lib\\site-packages\\pennylane\\interfaces\\execution.py:206\u001b[0m, in \u001b[0;36mcache_execute.<locals>.wrapper\u001b[1;34m(tapes, **kwargs)\u001b[0m\n\u001b[0;32m    202\u001b[0m         \u001b[39mreturn\u001b[39;00m (res, []) \u001b[39mif\u001b[39;00m return_tuple \u001b[39melse\u001b[39;00m res\n\u001b[0;32m    204\u001b[0m \u001b[39melse\u001b[39;00m:\n\u001b[0;32m    205\u001b[0m     \u001b[39m# execute all unique tapes that do not exist in the cache\u001b[39;00m\n\u001b[1;32m--> 206\u001b[0m     res \u001b[39m=\u001b[39m fn(execution_tapes\u001b[39m.\u001b[39;49mvalues(), \u001b[39m*\u001b[39;49m\u001b[39m*\u001b[39;49mkwargs)\n\u001b[0;32m    208\u001b[0m final_res \u001b[39m=\u001b[39m []\n\u001b[0;32m    210\u001b[0m \u001b[39mfor\u001b[39;00m i, tape \u001b[39min\u001b[39;00m \u001b[39menumerate\u001b[39m(tapes):\n",
      "File \u001b[1;32mc:\\Users\\Collin Frink\\anaconda3\\envs\\qiskit\\lib\\site-packages\\pennylane\\interfaces\\execution.py:131\u001b[0m, in \u001b[0;36mcache_execute.<locals>.fn\u001b[1;34m(tapes, **kwargs)\u001b[0m\n\u001b[0;32m    129\u001b[0m \u001b[39mdef\u001b[39;00m \u001b[39mfn\u001b[39m(tapes: Sequence[QuantumTape], \u001b[39m*\u001b[39m\u001b[39m*\u001b[39mkwargs):  \u001b[39m# pylint: disable=function-redefined\u001b[39;00m\n\u001b[0;32m    130\u001b[0m     tapes \u001b[39m=\u001b[39m [expand_fn(tape) \u001b[39mfor\u001b[39;00m tape \u001b[39min\u001b[39;00m tapes]\n\u001b[1;32m--> 131\u001b[0m     \u001b[39mreturn\u001b[39;00m original_fn(tapes, \u001b[39m*\u001b[39;49m\u001b[39m*\u001b[39;49mkwargs)\n",
      "File \u001b[1;32mc:\\Users\\Collin Frink\\anaconda3\\envs\\qiskit\\lib\\contextlib.py:75\u001b[0m, in \u001b[0;36mContextDecorator.__call__.<locals>.inner\u001b[1;34m(*args, **kwds)\u001b[0m\n\u001b[0;32m     72\u001b[0m \u001b[39m@wraps\u001b[39m(func)\n\u001b[0;32m     73\u001b[0m \u001b[39mdef\u001b[39;00m \u001b[39minner\u001b[39m(\u001b[39m*\u001b[39margs, \u001b[39m*\u001b[39m\u001b[39m*\u001b[39mkwds):\n\u001b[0;32m     74\u001b[0m     \u001b[39mwith\u001b[39;00m \u001b[39mself\u001b[39m\u001b[39m.\u001b[39m_recreate_cm():\n\u001b[1;32m---> 75\u001b[0m         \u001b[39mreturn\u001b[39;00m func(\u001b[39m*\u001b[39;49margs, \u001b[39m*\u001b[39;49m\u001b[39m*\u001b[39;49mkwds)\n",
      "File \u001b[1;32mc:\\Users\\Collin Frink\\anaconda3\\envs\\qiskit\\lib\\site-packages\\pennylane\\_qubit_device.py:624\u001b[0m, in \u001b[0;36mQubitDevice.batch_execute\u001b[1;34m(self, circuits)\u001b[0m\n\u001b[0;32m    621\u001b[0m     \u001b[39mself\u001b[39m\u001b[39m.\u001b[39mreset()\n\u001b[0;32m    623\u001b[0m     \u001b[39m# TODO: Insert control on value here\u001b[39;00m\n\u001b[1;32m--> 624\u001b[0m     res \u001b[39m=\u001b[39m \u001b[39mself\u001b[39;49m\u001b[39m.\u001b[39;49mexecute(circuit)\n\u001b[0;32m    625\u001b[0m     results\u001b[39m.\u001b[39mappend(res)\n\u001b[0;32m    627\u001b[0m \u001b[39mif\u001b[39;00m \u001b[39mself\u001b[39m\u001b[39m.\u001b[39mtracker\u001b[39m.\u001b[39mactive:\n",
      "File \u001b[1;32mc:\\Users\\Collin Frink\\anaconda3\\envs\\qiskit\\lib\\site-packages\\pennylane\\_qubit_device.py:375\u001b[0m, in \u001b[0;36mQubitDevice.execute\u001b[1;34m(self, circuit, **kwargs)\u001b[0m\n\u001b[0;32m    372\u001b[0m \u001b[39mself\u001b[39m\u001b[39m.\u001b[39mcheck_validity(circuit\u001b[39m.\u001b[39moperations, circuit\u001b[39m.\u001b[39mobservables)\n\u001b[0;32m    374\u001b[0m \u001b[39m# apply all circuit operations\u001b[39;00m\n\u001b[1;32m--> 375\u001b[0m \u001b[39mself\u001b[39m\u001b[39m.\u001b[39mapply(circuit\u001b[39m.\u001b[39moperations, rotations\u001b[39m=\u001b[39mcircuit\u001b[39m.\u001b[39;49mdiagonalizing_gates, \u001b[39m*\u001b[39m\u001b[39m*\u001b[39mkwargs)\n\u001b[0;32m    377\u001b[0m \u001b[39m# generate computational basis samples\u001b[39;00m\n\u001b[0;32m    378\u001b[0m \u001b[39mif\u001b[39;00m \u001b[39mself\u001b[39m\u001b[39m.\u001b[39mshots \u001b[39mis\u001b[39;00m \u001b[39mnot\u001b[39;00m \u001b[39mNone\u001b[39;00m \u001b[39mor\u001b[39;00m circuit\u001b[39m.\u001b[39mis_sampled:\n",
      "File \u001b[1;32mc:\\Users\\Collin Frink\\anaconda3\\envs\\qiskit\\lib\\site-packages\\pennylane\\tape\\qscript.py:349\u001b[0m, in \u001b[0;36mQuantumScript.diagonalizing_gates\u001b[1;34m(self)\u001b[0m\n\u001b[0;32m    345\u001b[0m \u001b[39mfor\u001b[39;00m observable \u001b[39min\u001b[39;00m \u001b[39mself\u001b[39m\u001b[39m.\u001b[39mobservables:\n\u001b[0;32m    346\u001b[0m     \u001b[39m# some observables do not have diagonalizing gates,\u001b[39;00m\n\u001b[0;32m    347\u001b[0m     \u001b[39m# in which case we just don't append any\u001b[39;00m\n\u001b[0;32m    348\u001b[0m     \u001b[39mwith\u001b[39;00m contextlib\u001b[39m.\u001b[39msuppress(qml\u001b[39m.\u001b[39moperation\u001b[39m.\u001b[39mDiagGatesUndefinedError):\n\u001b[1;32m--> 349\u001b[0m         rotation_gates\u001b[39m.\u001b[39mextend(observable\u001b[39m.\u001b[39;49mdiagonalizing_gates())\n\u001b[0;32m    350\u001b[0m \u001b[39mreturn\u001b[39;00m rotation_gates\n",
      "File \u001b[1;32mc:\\Users\\Collin Frink\\anaconda3\\envs\\qiskit\\lib\\site-packages\\pennylane\\ops\\qubit\\observables.py:200\u001b[0m, in \u001b[0;36mHermitian.diagonalizing_gates\u001b[1;34m(self)\u001b[0m\n\u001b[0;32m    193\u001b[0m \u001b[39m\"\"\"Return the gate set that diagonalizes a circuit according to the\u001b[39;00m\n\u001b[0;32m    194\u001b[0m \u001b[39mspecified Hermitian observable.\u001b[39;00m\n\u001b[0;32m    195\u001b[0m \n\u001b[0;32m    196\u001b[0m \u001b[39mReturns:\u001b[39;00m\n\u001b[0;32m    197\u001b[0m \u001b[39m    list: list containing the gates diagonalizing the Hermitian observable\u001b[39;00m\n\u001b[0;32m    198\u001b[0m \u001b[39m\"\"\"\u001b[39;00m\n\u001b[0;32m    199\u001b[0m \u001b[39m# note: compute_diagonalizing_gates has a custom signature, which is why we overwrite this method\u001b[39;00m\n\u001b[1;32m--> 200\u001b[0m \u001b[39mreturn\u001b[39;00m \u001b[39mself\u001b[39m\u001b[39m.\u001b[39mcompute_diagonalizing_gates(\u001b[39mself\u001b[39;49m\u001b[39m.\u001b[39;49meigendecomposition[\u001b[39m\"\u001b[39m\u001b[39meigvec\u001b[39m\u001b[39m\"\u001b[39m], \u001b[39mself\u001b[39m\u001b[39m.\u001b[39mwires)\n",
      "\u001b[1;31mKeyboardInterrupt\u001b[0m: "
     ]
    }
   ],
   "source": [
    "precompute = np.zeros((len(X_train), len(X_train)))\n",
    "\n",
    "for i in range(X_train.shape[0]):\n",
    "    print(i)\n",
    "    for j in range(i, X_train.shape[0]):\n",
    "        precompute[i, j] = kernel(X_train[i], X_train[j])\n",
    "        precompute[j, i] = precompute[i, j]"
   ]
  },
  {
   "cell_type": "code",
   "execution_count": 5,
   "metadata": {},
   "outputs": [
    {
     "name": "stdout",
     "output_type": "stream",
     "text": [
      "(227, 9)\n"
     ]
    }
   ],
   "source": [
    "print(X_train.shape)"
   ]
  },
  {
   "cell_type": "code",
   "execution_count": null,
   "metadata": {},
   "outputs": [],
   "source": []
  }
 ],
 "metadata": {
  "kernelspec": {
   "display_name": "Python 3.8.15 ('qiskit')",
   "language": "python",
   "name": "python3"
  },
  "language_info": {
   "codemirror_mode": {
    "name": "ipython",
    "version": 3
   },
   "file_extension": ".py",
   "mimetype": "text/x-python",
   "name": "python",
   "nbconvert_exporter": "python",
   "pygments_lexer": "ipython3",
   "version": "3.8.15"
  },
  "orig_nbformat": 4,
  "vscode": {
   "interpreter": {
    "hash": "05f3e146887fc9e0e3fe265cf7d1ea13b2e6af9eddaf9e58012280e1329e0e75"
   }
  }
 },
 "nbformat": 4,
 "nbformat_minor": 2
}
